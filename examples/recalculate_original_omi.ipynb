{
 "cells": [
  {
   "cell_type": "markdown",
   "metadata": {
    "pycharm": {
     "name": "#%% md\n"
    }
   },
   "source": [
    "# License\n",
    "Copyright (C) 2019 Christoph G. Hoffmann. All rights reserved.\n",
    "\n",
    "This file is part of mjoindices\n",
    "\n",
    "This program is free software: you can redistribute it and/or modify it under the terms of the GNU General Public License as published by the Free Software Foundation, either version 3 of the License, or (at your option) any later version.\n",
    "\n",
    "This program is distributed in the hope that it will be useful, but WITHOUT ANY WARRANTY; without even the implied warranty of MERCHANTABILITY or FITNESS FOR A PARTICULAR PURPOSE.  See the GNU General Public License for more details.\n",
    "\n",
    "You should have received a copy of the GNU General Public License along with this program.  If not, see <https://www.gnu.org/licenses/>.\n",
    "\n",
    "Contact: christoph.hoffmann@uni-greifswald.de"
   ]
  },
  {
   "cell_type": "markdown",
   "metadata": {
    "pycharm": {
     "name": "#%% md\n"
    }
   },
   "source": [
    "# Scientific descriptions\n",
    "This example reproduces the original OMI values described in Kiladis, G.N., J. Dias, K.H. Straub, M.C. Wheeler, S.N. Tulich, K. Kikuchi, K.M. Weickmann, and M.J. Ventrice, 2014: A Comparison of OLR and Circulation-Based Indices for Tracking the MJO. Mon. Wea. Rev., 142, 1697–1715, https://doi.org/10.1175/MWR-D-13-00301.1\n",
    "\n",
    "A scientific description of the software package used by this example (mjoindices) is found in Hoffmann, C.G., Kiladis, G.N., Gehne, M. and von Savigny, C., 2021: A Python Package to Calculate the OLR-Based Index of the Madden-Julian-Oscillation (OMI) in Climate Science and Weather Forecasting. Journal of Open Research Software, 9(1), p.9. DOI: https://doi.org/10.5334/jors.331\n",
    "\n",
    "We kindly ask you to cite both papers if you use computed results in your scientific publications.\n",
    "\n",
    "Furthermore, we have received first adaptions of the OMI algorithm from the community. These modifications are not covered by Kiladis (2014), but are typically described in other scientific publications before their integration into the package (if they are not only of technical nature). While we designed the default settings such that the original OMI values are reproduced (which also applies for this example), you might want to check the documentation (<https://cghoffmann.github.io/mjoindices/index.html>) of the major function calls below to get an overview of the available options. Furthermore, a list of all scientific publications, on which the package is based, is available (<https://cghoffmann.github.io/mjoindices/references.html>). Please also cite those papers of the list, which describe options that you activated for the calculations. So far, possible options are an alternative post-processing approach for the EOFs, and a possibility to work with data without leap years.\n"
   ]
  },
  {
   "cell_type": "markdown",
   "metadata": {
    "pycharm": {
     "name": "#%% md\n"
    }
   },
   "source": [
    "# Before you start\n",
    "The script may run for about 2 hours on common desktop computers. <span style=\"color:red\">The cells, which take most of the time, are commented in red</span>.\n",
    "\n",
    "This example also produces some diagnostic plots. More evalutation can be done afterwards with the included notebook evaluate_omi_reproduction.ipynb .\n",
    "\n",
    "You can modify this example in order to compute OMI data from other OLR datasets (this is probably what you intend if you use this package). For this, you only have to provide your OLR data as a mjoindices.olr_handling.OLRData object and <span style=\"color:green\"> use it in two cells below, which are commented in green</span>."
   ]
  },
  {
   "cell_type": "markdown",
   "metadata": {
    "pycharm": {
     "name": "#%% md\n"
    }
   },
   "source": [
    "# Preparation of the recalculation\n",
    "## Imports"
   ]
  },
  {
   "cell_type": "code",
   "execution_count": null,
   "metadata": {
    "pycharm": {
     "name": "#%%\n"
    }
   },
   "outputs": [],
   "source": [
    "from pathlib import Path\n",
    "import os.path\n",
    "import inspect\n",
    "\n",
    "import mjoindices.olr_handling as olr\n",
    "import mjoindices.omi.omi_calculator as omi\n",
    "import mjoindices.empirical_orthogonal_functions as eof\n",
    "import mjoindices.principal_components as pc\n",
    "import mjoindices.evaluation_tools\n",
    "import numpy as np"
   ]
  },
  {
   "cell_type": "code",
   "execution_count": null,
   "metadata": {
    "pycharm": {
     "name": "#%%\n"
    }
   },
   "outputs": [],
   "source": [
    "Path(os.path.abspath('')).parents[0]"
   ]
  },
  {
   "cell_type": "markdown",
   "metadata": {
    "pycharm": {
     "name": "#%% md\n"
    }
   },
   "source": [
    "## Settings.\n",
    "Adjust the settings and filenames according to your system here.\n",
    "\n"
   ]
  },
  {
   "cell_type": "markdown",
   "metadata": {
    "pycharm": {
     "name": "#%% md\n"
    }
   },
   "source": [
    "### DOY for details\n",
    "Select the DOY, for which you would like to see a detailed comparison of the EOFs (number between 1 and 366). E.g., DOY 23 has some of the best agreement with the original OMI, and DOY 218 has the worst agreement."
   ]
  },
  {
   "cell_type": "code",
   "execution_count": null,
   "metadata": {
    "pycharm": {
     "name": "#%%\n"
    }
   },
   "outputs": [],
   "source": [
    "doy=23"
   ]
  },
  {
   "cell_type": "markdown",
   "metadata": {
    "pycharm": {
     "name": "#%% md\n"
    }
   },
   "source": [
    "### Period, for which the PC time series are plotted\n",
    "Select the start and end date."
   ]
  },
  {
   "cell_type": "code",
   "execution_count": null,
   "metadata": {
    "pycharm": {
     "name": "#%%\n"
    }
   },
   "outputs": [],
   "source": [
    "pc_plot_period_start=np.datetime64(\"2011-01-01\")\n",
    "pc_plot_period_stop=np.datetime64(\"2011-12-31\")"
   ]
  },
  {
   "cell_type": "markdown",
   "metadata": {
    "pycharm": {
     "name": "#%% md\n"
    }
   },
   "source": [
    "\n",
    "### External input files\n",
    "**Original OLR data**: Download the data file from <https://www.psl.noaa.gov/thredds/catalog/Datasets/interp_OLR/catalog.html?dataset=Datasets/interp_OLR/olr.day.mean.nc> to your local file system and adjust the local path below.\n",
    "\n",
    "Note: If you have set up the test suite using the reference data package (<https://doi.org/10.5281/zenodo.3746562>) and if you have kept the original directory structure, the following default setting should directly work."
   ]
  },
  {
   "cell_type": "code",
   "execution_count": null,
   "metadata": {},
   "outputs": [],
   "source": [
    "olr_data_filename = Path(os.path.abspath('')).parents[0] / \"tests\" / \"testdata\" / \"olr.day.mean.nc\""
   ]
  },
  {
   "cell_type": "markdown",
   "metadata": {
    "pycharm": {
     "name": "#%% md\n"
    }
   },
   "source": [
    "**Original EOF functions**: The following directory should contain the two subdirectories \"eof1\" and \"eof2\", which should contain the files downloaded from <ftp://ftp.cdc.noaa.gov/Datasets.other/MJO/eof1/> and <ftp://ftp.cdc.noaa.gov/Datasets.other/MJO/eof2/>, respectively.\n",
    "\n",
    "Note: If you have set up the test suite using the reference data package (<https://doi.org/10.5281/zenodo.3746562>) and if you have kept the original directory structure, the following default setting should directly work."
   ]
  },
  {
   "cell_type": "code",
   "execution_count": null,
   "metadata": {
    "pycharm": {
     "name": "#%%\n"
    }
   },
   "outputs": [],
   "source": [
    "originalOMIDataDirname = Path(os.path.abspath('')).parents[0] / \"tests\" / \"testdata\" / \"OriginalOMI\""
   ]
  },
  {
   "cell_type": "markdown",
   "metadata": {
    "pycharm": {
     "name": "#%% md\n"
    }
   },
   "source": [
    "**Original OMI PC values**: Download the original OMI values from <https://www.esrl.noaa.gov/psd/mjo/mjoindex/omi.1x.txt> to your local file system and adjust the local path below.\n",
    "\n",
    "Note: If you have set up the test suite using the reference data package (<https://doi.org/10.5281/zenodo.3746562>) and if you have kept the original directory structure, the following default setting should directly work."
   ]
  },
  {
   "cell_type": "code",
   "execution_count": null,
   "metadata": {
    "pycharm": {
     "name": "#%%\n"
    }
   },
   "outputs": [],
   "source": [
    "originalOMIPCFile = Path(os.path.abspath('')).parents[0] / \"tests\" / \"testdata\" / \"OriginalOMI\" / \"omi.1x.txt\""
   ]
  },
  {
   "cell_type": "markdown",
   "metadata": {
    "pycharm": {
     "name": "#%% md\n"
    }
   },
   "source": [
    "### Recalculation output files\n",
    "\n",
    "**The recalculated EOF values**: Saved in the following file."
   ]
  },
  {
   "cell_type": "code",
   "execution_count": null,
   "metadata": {
    "pycharm": {
     "name": "#%%\n"
    }
   },
   "outputs": [],
   "source": [
    "eofnpzfile = Path(os.path.abspath('')).parents[0] / \"examples\" / \"example_data\" / \"EOFs.npz\"\n",
    "print(eofnpzfile)"
   ]
  },
  {
   "cell_type": "markdown",
   "metadata": {
    "pycharm": {
     "name": "#%% md\n"
    }
   },
   "source": [
    "**The recalculated PC values**: Saved in the following file."
   ]
  },
  {
   "cell_type": "code",
   "execution_count": null,
   "metadata": {
    "pycharm": {
     "name": "#%%\n"
    }
   },
   "outputs": [],
   "source": [
    "pctxtfile = Path(os.path.abspath('')).parents[0] / \"examples\" / \"example_data\" / \"PCs.txt\""
   ]
  },
  {
   "cell_type": "markdown",
   "metadata": {
    "pycharm": {
     "name": "#%% md\n"
    }
   },
   "source": [
    "**The directory, in which the figures are saved**:"
   ]
  },
  {
   "cell_type": "code",
   "execution_count": null,
   "metadata": {
    "pycharm": {
     "name": "#%%\n"
    }
   },
   "outputs": [],
   "source": [
    "fig_dir = Path(os.path.abspath('')).parents[0] / \"examples\"  / \"example_data\" / \"omi_recalc_example_plots\"\n",
    "if not fig_dir.exists():\n",
    "    fig_dir.mkdir(parents=True, exist_ok=False)"
   ]
  },
  {
   "cell_type": "markdown",
   "metadata": {
    "pycharm": {
     "name": "#%% md\n"
    }
   },
   "source": [
    "# Recalculation of the EOFs\n",
    "\n",
    "There should be no need to change anything below (except you intend to use different OLR data as input or you are experiencing problems with the NOAA OLR file NetCDF version.)\n",
    "\n",
    "## Preparation of the OLR data\n",
    "\n",
    "**Load** the original OLR data.\n",
    "\n",
    "<span style=\"color:green\">Note that this is the first of only two lines that have to be changed if you want to compute OMI for a different OLR dataset: Write a loader function for this dataset and replace the following line with a call of this function.</span>\n",
    "\n",
    "<span style=\"color:red\">**ATTENTION**</span>: Note that the file format was changed by NOAA from NetCDF3 to NetCDF4 sometime between the years 2019 and 2021. If you are using a recent download of the data and experience problems, you should switch between the following two lines:"
   ]
  },
  {
   "cell_type": "code",
   "execution_count": null,
   "metadata": {
    "pycharm": {
     "name": "#%%\n"
    }
   },
   "outputs": [],
   "source": [
    "raw_olr = olr.load_noaa_interpolated_olr(olr_data_filename)\n",
    "# raw_olr = olr.load_noaa_interpolated_olr_netcdf4(olr_data_filename)"
   ]
  },
  {
   "cell_type": "markdown",
   "metadata": {
    "pycharm": {
     "name": "#%% md\n"
    }
   },
   "source": [
    "Restrict dataset to the original length for the EOF calculation."
   ]
  },
  {
   "cell_type": "code",
   "execution_count": null,
   "metadata": {
    "pycharm": {
     "name": "#%%\n"
    }
   },
   "outputs": [],
   "source": [
    "shorter_olr = olr.restrict_time_coverage(raw_olr, np.datetime64('1979-01-01'), np.datetime64('2012-12-31'))"
   ]
  },
  {
   "cell_type": "markdown",
   "metadata": {
    "pycharm": {
     "name": "#%% md\n"
    }
   },
   "source": [
    "Make sure that the spatial sampling resembles the original one (This should not be necessary here, since we use the original data file. Nevertheless, we want to be sure.)."
   ]
  },
  {
   "cell_type": "code",
   "execution_count": null,
   "metadata": {
    "pycharm": {
     "name": "#%%\n"
    }
   },
   "outputs": [],
   "source": [
    "interpolated_olr = olr.interpolate_spatial_grid_to_original(shorter_olr)"
   ]
  },
  {
   "cell_type": "markdown",
   "metadata": {
    "pycharm": {
     "name": "#%% md\n"
    }
   },
   "source": [
    "**Diagnosis plot** of the loaded OLR data."
   ]
  },
  {
   "cell_type": "code",
   "execution_count": null,
   "metadata": {
    "pycharm": {
     "name": "#%%\n"
    }
   },
   "outputs": [],
   "source": [
    "fig = olr.plot_olr_map_for_date(interpolated_olr, np.datetime64(\"2010-01-01\"))\n",
    "fig.show()\n",
    "fig.savefig(fig_dir / \"OLR_map.png\")"
   ]
  },
  {
   "cell_type": "markdown",
   "metadata": {
    "pycharm": {
     "name": "#%% md\n"
    }
   },
   "source": [
    "If you would like to remove leap years from your dataset, use the following function. The original OMI calculution includes leap years."
   ]
  },
  {
   "cell_type": "markdown",
   "metadata": {
    "pycharm": {
     "name": "#%% md\n"
    }
   },
   "source": [
    "## Calculation of the EOFs\n",
    "\n",
    "As a preparation, a dictionary with parameters for the EOF post-processing function is filled. Afterwards, the basic function omi.calc_eofs_from_olr() is called. The settings here are chosen to reproduce the original OMI values. See the API documentation for further options and a description of the parameters (start at <https://cghoffmann.github.io/mjoindices/api/omi_calculator.html#mjoindices.omi.omi_calculator.calc_eofs_from_olr>).\n",
    "\n",
    "\n",
    "<span style=\"color:red\">This part takes most of the computation time.</span> Skip the following cell, if you have already computed and saved the EOFs before."
   ]
  },
  {
   "cell_type": "code",
   "execution_count": null,
   "metadata": {
    "pycharm": {
     "name": "#%%\n"
    }
   },
   "outputs": [],
   "source": [
    "kiladis_pp_params = {\"sign_doy1reference\": True,\n",
    "                      \"interpolate_eofs\": True,\n",
    "                      \"interpolation_start_doy\": 293,\n",
    "                      \"interpolation_end_doy\": 316}\n",
    "\n",
    "eofs = omi.calc_eofs_from_olr(interpolated_olr,\n",
    "                             leap_year_treatment=\"original\",\n",
    "                             eofs_postprocessing_type=\"kiladis2014\",\n",
    "                             eofs_postprocessing_params=kiladis_pp_params)"
   ]
  },
  {
   "cell_type": "code",
   "execution_count": null,
   "metadata": {
    "pycharm": {
     "name": "#%%\n"
    }
   },
   "outputs": [],
   "source": [
    "eofs.save_all_eofs_to_npzfile(eofnpzfile)"
   ]
  },
  {
   "cell_type": "markdown",
   "metadata": {
    "pycharm": {
     "name": "#%% md\n"
    }
   },
   "source": [
    "## Evaluation of the EOFs\n",
    "\n",
    "Load the original EOFs for comparison.\n",
    "\n",
    "Also load the recalculated EOFs from file first, just in case that they have not been recomputed during this session."
   ]
  },
  {
   "cell_type": "code",
   "execution_count": null,
   "metadata": {
    "pycharm": {
     "name": "#%%\n"
    }
   },
   "outputs": [],
   "source": [
    "orig_eofs = eof.load_all_original_eofs_from_directory(originalOMIDataDirname)\n",
    "eofs = eof.restore_all_eofs_from_npzfile(eofnpzfile)"
   ]
  },
  {
   "cell_type": "markdown",
   "metadata": {
    "pycharm": {
     "name": "#%% md\n"
    }
   },
   "source": [
    "Check the **correlations and further statistics** between the EOFs for each DOY individually:"
   ]
  },
  {
   "cell_type": "code",
   "execution_count": null,
   "metadata": {
    "pycharm": {
     "name": "#%%\n"
    }
   },
   "outputs": [],
   "source": [
    "fig = mjoindices.evaluation_tools.plot_comparison_stats_for_eofs_all_doys (eofs, orig_eofs, exclude_doy366=False, do_print=True)\n",
    "fig.show()\n",
    "fig.savefig(fig_dir / \"EOFs_CorrelationWithOriginal.png\")"
   ]
  },
  {
   "cell_type": "markdown",
   "metadata": {
    "pycharm": {
     "name": "#%% md\n"
    }
   },
   "source": [
    "Show the **explained variances** of the recalculation. Values are about a factor of 2. lower than in Kiladis, 2014, which is correct!"
   ]
  },
  {
   "cell_type": "code",
   "execution_count": null,
   "metadata": {
    "pycharm": {
     "name": "#%%\n"
    }
   },
   "outputs": [],
   "source": [
    "fig = eof.plot_explained_variance_for_all_doys(eofs)\n",
    "fig.show()\n",
    "fig.savefig(fig_dir / \"EOFs_ExplainedVariance.png\")"
   ]
  },
  {
   "cell_type": "markdown",
   "metadata": {
    "pycharm": {
     "name": "#%% md\n"
    }
   },
   "source": [
    "Show a **detailed comparison of individual EOFs** for the particular DOY selected above.\n",
    "\n",
    "*Maps of EOF1 and EOF2:*"
   ]
  },
  {
   "cell_type": "code",
   "execution_count": null,
   "metadata": {
    "pycharm": {
     "name": "#%%\n"
    }
   },
   "outputs": [],
   "source": [
    "fig = eof.plot_individual_eof_map(eofs.eofdata_for_doy(doy), doy)\n",
    "fig.show()\n",
    "fig.savefig(fig_dir / \"EOF_Sample.png\")"
   ]
  },
  {
   "cell_type": "markdown",
   "metadata": {
    "pycharm": {
     "name": "#%% md\n"
    }
   },
   "source": [
    "*Comparison of EOF maps:*"
   ]
  },
  {
   "cell_type": "code",
   "execution_count": null,
   "metadata": {
    "pycharm": {
     "name": "#%%\n"
    }
   },
   "outputs": [],
   "source": [
    "fig = mjoindices.evaluation_tools.plot_individual_eof_map_comparison(orig_eofs.eofdata_for_doy(doy), eofs.eofdata_for_doy(doy), doy)\n",
    "fig.show()\n",
    "fig.savefig(fig_dir / \"EOF_SampleComparison.png\")"
   ]
  },
  {
   "cell_type": "markdown",
   "metadata": {
    "pycharm": {
     "name": "#%% md\n"
    }
   },
   "source": [
    "*Explained variance for a specified number of Eigenvectors (default 10):*\n",
    "\n",
    "The variance for EOF1 and EOF2 should be higher than for the other EOF numbers. The sum over all EOFs should be 1.0."
   ]
  },
  {
   "cell_type": "code",
   "execution_count": null,
   "metadata": {
    "pycharm": {
     "name": "#%%\n"
    }
   },
   "outputs": [],
   "source": [
    "fig = eof.plot_individual_explained_variance_all_eofs(eofs.eofdata_for_doy(doy), doy=doy, max_eof_number=10)\n",
    "fig.show()\n",
    "fig.savefig(fig_dir / \"EOF_SampleExplainedVariance.png\")"
   ]
  },
  {
   "cell_type": "markdown",
   "metadata": {
    "pycharm": {
     "name": "#%% md\n"
    }
   },
   "source": [
    "# Recalculation of the PCs\n",
    "\n",
    "Load the OLR data again, so that this section in independent of the EOF calculation.\n",
    "\n",
    "<span style=\"color:green\">Note that this is the second of two lines that have to be changed if you want to compute OMI for a different OLR dataset: Write a loader function for this dataset and replace the following line with a call of this function.</span>"
   ]
  },
  {
   "cell_type": "code",
   "execution_count": null,
   "metadata": {
    "pycharm": {
     "name": "#%%\n"
    }
   },
   "outputs": [],
   "source": [
    "olr = olr.load_noaa_interpolated_olr(olr_data_filename)\n",
    "# olr = olr.load_noaa_interpolated_olr_netcdf4(olr_data_filename)"
   ]
  },
  {
   "cell_type": "markdown",
   "metadata": {
    "pycharm": {
     "name": "#%% md\n"
    }
   },
   "source": [
    "Load the EOFs, which have been calculated before (also to be independent of the previous cells)."
   ]
  },
  {
   "cell_type": "code",
   "execution_count": null,
   "metadata": {
    "pycharm": {
     "name": "#%%\n"
    }
   },
   "outputs": [],
   "source": [
    "eofs = eof.restore_all_eofs_from_npzfile(eofnpzfile)"
   ]
  },
  {
   "cell_type": "markdown",
   "metadata": {
    "pycharm": {
     "name": "#%% md\n"
    }
   },
   "source": [
    "Calculate the PCs. Restrict calculation to the length of the original OMI time series.\n",
    "\n",
    "<span style=\"color:red\">This part may take several minutes on a common desktop computer.</span> Skip the following cell, if you have already computed and saved the PCs before."
   ]
  },
  {
   "cell_type": "code",
   "execution_count": null,
   "metadata": {
    "pycharm": {
     "name": "#%%\n"
    }
   },
   "outputs": [],
   "source": [
    "pcs = omi.calculate_pcs_from_olr(olr,\n",
    "                                 eofs,\n",
    "                                 np.datetime64(\"1979-01-01\"),\n",
    "                                 np.datetime64(\"2018-08-28\"),\n",
    "                                 use_quick_temporal_filter=False)\n",
    "pcs.save_pcs_to_txt_file(pctxtfile)"
   ]
  },
  {
   "cell_type": "markdown",
   "metadata": {
    "pycharm": {
     "name": "#%% md\n"
    }
   },
   "source": [
    "## Evaluation of the PCs\n",
    "\n",
    "Load the original PCs for comparison.\n",
    "\n",
    "Also load the recalculated PCs from file first, just in case that they have not been recomputed during this session."
   ]
  },
  {
   "cell_type": "code",
   "execution_count": null,
   "metadata": {
    "pycharm": {
     "name": "#%%\n"
    }
   },
   "outputs": [],
   "source": [
    "pcs = pc.load_pcs_from_txt_file(pctxtfile)\n",
    "orig_pcs = pc.load_original_pcs_from_txt_file(originalOMIPCFile)"
   ]
  },
  {
   "cell_type": "markdown",
   "metadata": {
    "pycharm": {
     "name": "#%% md\n"
    }
   },
   "source": [
    "Plot sample period of the *PC time series*."
   ]
  },
  {
   "cell_type": "code",
   "execution_count": null,
   "metadata": {
    "pycharm": {
     "name": "#%%\n"
    }
   },
   "outputs": [],
   "source": [
    "fig = mjoindices.evaluation_tools.plot_comparison_orig_calc_pcs(pcs, orig_pcs, start_date=pc_plot_period_start, end_date=pc_plot_period_stop)\n",
    "fig.savefig(fig_dir / \"PCs_TimeSeries.png\")\n"
   ]
  },
  {
   "cell_type": "code",
   "execution_count": null,
   "metadata": {
    "pycharm": {
     "name": "#%%\n"
    }
   },
   "outputs": [],
   "source": [
    "pcs = omi.calculate_pcs_from_olr(olr,\n",
    "                                 eofs,\n",
    "                                 np.datetime64(\"1979-01-01\"),\n",
    "                                 np.datetime64(\"2018-08-28\"),\n",
    "                                 use_quick_temporal_filter=False)\n",
    "pcs.save_pcs_to_txt_file(pctxtfile)"
   ]
  },
  {
   "cell_type": "markdown",
   "metadata": {
    "pycharm": {
     "name": "#%% md\n"
    }
   },
   "source": [
    "## Evaluation of the PCs\n",
    "\n",
    "Load the original PCs for comparison.\n",
    "\n",
    "Also load the recalculated PCs from file first, just in case that they have not been recomputed during this session."
   ]
  },
  {
   "cell_type": "code",
   "execution_count": null,
   "metadata": {
    "pycharm": {
     "name": "#%%\n"
    }
   },
   "outputs": [],
   "source": [
    "pcs = pc.load_pcs_from_txt_file(pctxtfile)\n",
    "orig_pcs = pc.load_original_pcs_from_txt_file(originalOMIPCFile)"
   ]
  },
  {
   "cell_type": "markdown",
   "metadata": {
    "pycharm": {
     "name": "#%% md\n"
    }
   },
   "source": [
    "Plot sample period of the *PC time series*."
   ]
  },
  {
   "cell_type": "code",
   "execution_count": null,
   "metadata": {
    "pycharm": {
     "name": "#%%\n"
    }
   },
   "outputs": [],
   "source": [
    "fig = mjoindices.evaluation_tools.plot_comparison_orig_calc_pcs(pcs, orig_pcs, start_date=pc_plot_period_start, end_date=pc_plot_period_stop)\n",
    "fig.savefig(fig_dir / \"PCs_TimeSeries.png\")\n"
   ]
  }
 ],
 "metadata": {
  "kernelspec": {
   "display_name": "Python 3 (ipykernel)",
   "language": "python",
   "name": "python3"
  },
  "language_info": {
   "codemirror_mode": {
    "name": "ipython",
    "version": 3
   },
   "file_extension": ".py",
   "mimetype": "text/x-python",
   "name": "python",
   "nbconvert_exporter": "python",
   "pygments_lexer": "ipython3",
   "version": "3.10.6"
  },
  "pycharm": {
   "stem_cell": {
    "cell_type": "raw",
    "metadata": {
     "collapsed": false
    },
    "source": []
   }
  }
 },
 "nbformat": 4,
 "nbformat_minor": 4
}
