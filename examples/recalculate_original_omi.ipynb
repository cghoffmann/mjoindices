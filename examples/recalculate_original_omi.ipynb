{
 "cells": [
  {
   "cell_type": "markdown",
   "metadata": {},
   "source": [
    "# License\n",
    "Copyright (C) 2019 Christoph G. Hoffmann. All rights reserved.\n",
    "\n",
    "This file is part of mjoindices\n",
    "\n",
    "This program is free software: you can redistribute it and/or modify it under the terms of the GNU General Public License as published by the Free Software Foundation, either version 3 of the License, or (at your option) any later version.\n",
    "\n",
    "This program is distributed in the hope that it will be useful, but WITHOUT ANY WARRANTY; without even the implied warranty of MERCHANTABILITY or FITNESS FOR A PARTICULAR PURPOSE.  See the GNU General Public License for more details.\n",
    "\n",
    "You should have received a copy of the GNU General Public License along with this program.  If not, see <https://www.gnu.org/licenses/>.\n",
    "\n",
    "Contact: christoph.hoffmann@uni-greifswald.de"
   ]
  },
  {
   "cell_type": "markdown",
   "metadata": {},
   "source": [
    "# Scientific descriptions\n",
    "This example reproduces the original OMI values described in Kiladis, G.N., J. Dias, K.H. Straub, M.C. Wheeler, S.N. Tulich, K. Kikuchi, K.M. Weickmann, and M.J. Ventrice, 2014: A Comparison of OLR and Circulation-Based Indices for Tracking the MJO. Mon. Wea. Rev., 142, 1697–1715, https://doi.org/10.1175/MWR-D-13-00301.1\n",
    "\n",
    "A scientific description of the software package used by this example (mjoindices) is found in Hoffmann, C.G., Kiladis, G.N., Gehne, M. and von Savigny, C., 2021: A Python Package to Calculate the OLR-Based Index of the Madden-Julian-Oscillation (OMI) in Climate Science and Weather Forecasting. Journal of Open Research Software, 9(1), p.9. DOI: https://doi.org/10.5334/jors.331\n",
    "\n",
    "We kindly ask you to cite both papers if you use computed results in your scientific publications."
   ]
  },
  {
   "cell_type": "markdown",
   "metadata": {},
   "source": [
    "# Before you start\n",
    "The script may run for about 2 hours on common desktop computers. <span style=\"color:red\">The cells, which take most of the time, are commented in red</span>.\n",
    "\n",
    "You can modify this example in order to compute OMI data from other OLR datasets (this is probably what you intend if you use this package). For this, you only have to provide your OLR data as a mjoindices.olr_handling.OLRData object and <span style=\"color:green\"> use it in two cells below, which are commented in green</span>.\n",
    "\n",
    "This example also produces some diagnostic plots. More evalutation can be done afterwards with the included notebook evaluate_omi_reproduction.ipynb .\n",
    "\n"
   ]
  },
  {
   "cell_type": "markdown",
   "metadata": {},
   "source": [
    "# Preparation of the recalculation\n",
    "## Imports"
   ]
  },
  {
   "cell_type": "code",
   "execution_count": 1,
   "metadata": {
    "pycharm": {
     "is_executing": false
    }
   },
   "outputs": [],
   "source": [
    "from pathlib import Path\n",
    "import os.path\n",
    "import inspect\n",
    "\n",
    "import mjoindices.olr_handling as olr\n",
    "import mjoindices.omi.omi_calculator as omi\n",
    "import mjoindices.empirical_orthogonal_functions as eof\n",
    "import mjoindices.principal_components as pc\n",
    "import mjoindices.evaluation_tools\n",
    "import numpy as np"
   ]
  },
  {
   "cell_type": "code",
   "execution_count": 2,
   "metadata": {},
   "outputs": [],
   "source": [
    "Path(os.path.abspath('')).parents[0]"
   ]
  },
  {
   "cell_type": "markdown",
   "metadata": {},
   "source": [
    "## Settings.\n",
    "Adjust the settings and filenames according to your system here.\n",
    "\n"
   ]
  },
  {
   "cell_type": "markdown",
   "metadata": {},
   "source": [
    "### DOY for details\n",
    "Select the DOY, for which you would like to see a detailed comparison of the EOFs (number between 1 and 366).\n",
    "E.g., DOY 23 is among the best agreements and DOY 218 has the worst agreement."
   ]
  },
  {
   "cell_type": "code",
   "execution_count": 3,
   "metadata": {
    "pycharm": {
     "is_executing": false
    }
   },
   "outputs": [],
   "source": [
    "doy=23"
   ]
  },
  {
   "cell_type": "markdown",
   "metadata": {},
   "source": [
    "### Include leap years in dataset\n",
    "If you are using a dataset that does not include leap years, then set this to True. \n"
   ]
  },
  {
   "cell_type": "code",
   "execution_count": null,
   "metadata": {},
   "outputs": [
    {
     "ename": "",
     "evalue": "",
     "output_type": "error",
     "traceback": [
      "\u001b[1;31mJupyter cannot be started. Error attempting to locate jupyter: Running cells with 'Python 3.9.12 64-bit' requires jupyter and notebook package.\n",
      "Run the following command to install 'jupyter and notebook' into the Python environment. \n",
      "Command: 'python -m pip install jupyter notebook -U\n",
      "or\n",
      "conda install jupyter notebook -U'\n",
      "Click <a href='https://aka.ms/installJupyterForVSCode'>here</a> for more info."
     ]
    }
   ],
   "source": [
    "no_leap = False"
   ]
  },
  {
   "cell_type": "markdown",
   "metadata": {},
   "source": [
    "### Period, for which the PC time series are plotted\n",
    "Select the start and end date."
   ]
  },
  {
   "cell_type": "code",
   "execution_count": 4,
   "metadata": {
    "pycharm": {
     "is_executing": false
    }
   },
   "outputs": [],
   "source": [
    "pc_plot_period_start=np.datetime64(\"2011-01-01\")\n",
    "pc_plot_period_stop=np.datetime64(\"2011-12-31\")"
   ]
  },
  {
   "cell_type": "markdown",
   "metadata": {},
   "source": [
    "\n",
    "### External input files\n",
    "**Original OLR data**: Download the data file from ftp://ftp.cdc.noaa.gov/Datasets/interp_OLR/olr.day.mean.nc to your local file system and adjust the local path below.\n",
    "\n",
    "Note: If you have set up the test suite using the reference data package (https://doi.org/10.5281/zenodo.3746562) and if you have kept the original directory structure, the following default setting should directly work."
   ]
  },
  {
   "cell_type": "code",
   "execution_count": 5,
   "metadata": {
    "pycharm": {
     "is_executing": false
    }
   },
   "outputs": [],
   "source": [
    "olr_data_filename = Path(os.path.abspath('')).parents[0] / \"tests\" / \"testdata\" / \"olr.day.mean_netcdf4.nc\""
   ]
  },
  {
   "cell_type": "markdown",
   "metadata": {},
   "source": [
    "**Original EOF functions**: The following directory should contain the two subdirectories \"eof1\" and \"eof2\", which should contain the files downloaded from ftp://ftp.cdc.noaa.gov/Datasets.other/MJO/eof1/ and ftp://ftp.cdc.noaa.gov/Datasets.other/MJO/eof2/, respectively.\n",
    "\n",
    "Note: If you have set up the test suite using the reference data package (https://doi.org/10.5281/zenodo.3746562) and if you have kept the original directory structure, the following default setting should directly work."
   ]
  },
  {
   "cell_type": "code",
   "execution_count": null,
   "metadata": {
    "pycharm": {
     "is_executing": false
    }
   },
   "outputs": [],
   "source": [
    "originalOMIDataDirname = Path(os.path.abspath('')).parents[0] / \"tests\" / \"testdata\" / \"OriginalOMI\""
   ]
  },
  {
   "cell_type": "markdown",
   "metadata": {},
   "source": [
    "**Original OMI PC values**: Download the original OMI values from https://www.esrl.noaa.gov/psd/mjo/mjoindex/omi.1x.txt to your local file system and adjust the local path below.\n",
    "\n",
    "Note: If you have set up the test suite using the reference data package (https://doi.org/10.5281/zenodo.3746562) and if you have kept the original directory structure, the following default setting should directly work."
   ]
  },
  {
   "cell_type": "code",
   "execution_count": 6,
   "metadata": {
    "pycharm": {
     "is_executing": false
    }
   },
   "outputs": [],
   "source": [
    "originalOMIPCFile = Path(os.path.abspath('')).parents[0] / \"tests\" / \"testdata\" / \"OriginalOMI\" / \"omi.1x.txt\""
   ]
  },
  {
   "cell_type": "markdown",
   "metadata": {},
   "source": [
    "### Recalculation output files\n",
    "\n",
    "**The recalculated EOF values**: Saved in the following file."
   ]
  },
  {
   "cell_type": "code",
   "execution_count": 7,
   "metadata": {
    "pycharm": {
     "is_executing": false
    }
   },
   "outputs": [],
   "source": [
    "eofnpzfile = Path(os.path.abspath('')).parents[0] / \"examples\" / \"example_data\" / \"EOFs.npz\"\n",
    "print(eofnpzfile)"
   ]
  },
  {
   "cell_type": "markdown",
   "metadata": {},
   "source": [
    "**The recalculated PC values**: Saved in the following file."
   ]
  },
  {
   "cell_type": "code",
   "execution_count": 8,
   "metadata": {
    "pycharm": {
     "is_executing": false
    }
   },
   "outputs": [],
   "source": [
    "pctxtfile = Path(os.path.abspath('')).parents[0] / \"examples\" / \"example_data\" / \"PCs.txt\""
   ]
  },
  {
   "cell_type": "markdown",
   "metadata": {},
   "source": [
    "**The directory, in which the figures are saved**:"
   ]
  },
  {
   "cell_type": "code",
   "execution_count": 9,
   "metadata": {
    "pycharm": {
     "is_executing": false
    }
   },
   "outputs": [],
   "source": [
    "fig_dir = Path(os.path.abspath('')).parents[0] / \"examples\"  / \"example_data\" / \"omi_recalc_example_plots\"\n",
    "if not fig_dir.exists():\n",
    "    fig_dir.mkdir(parents=True, exist_ok=False)"
   ]
  },
  {
   "cell_type": "markdown",
   "metadata": {},
   "source": [
    "# Recalculation of the EOFs\n",
    "\n",
    "There should be no need to change anything below (except you intend to use different OLR data as input or you are experiencing problems with the NOAA OLR file NetCDF version.)\n",
    "\n",
    "## Preparation of the OLR data\n",
    "\n",
    "**Load** the original OLR data.\n",
    "\n",
    "<span style=\"color:green\">Note that this is the first of only two lines that have to be changed if you want to compute OMI for a different OLR dataset: Write a loader function for this dataset and replace the following line with a call of this function.</span>"
   ]
  },
  {
   "cell_type": "code",
   "execution_count": 11,
   "metadata": {
    "pycharm": {
     "is_executing": false
    }
   },
   "outputs": [],
   "source": [
    "raw_olr = olr.load_noaa_interpolated_olr(olr_data_filename)"
   ]
  },
  {
   "cell_type": "markdown",
   "metadata": {},
   "source": [
    "<span style=\"color:red\">**ATTENTION**</span>: Note that the file format has apparently been changed by NOAA from NetCDF3 to NetCDF4 sometime between the years 2019 and 2021. If you are using a recent download of the data an experience problems with the previous loader method, you should use the following line instead:"
   ]
  },
  {
   "cell_type": "code",
   "execution_count": null,
   "metadata": {},
   "outputs": [],
   "source": [
    "# raw_olr = olr.load_noaa_interpolated_olr_netcdf4(olr_data_filename)"
   ]
  },
  {
   "cell_type": "markdown",
   "metadata": {},
   "source": [
    "Restrict dataset to the original length for the EOF calculation."
   ]
  },
  {
   "cell_type": "code",
   "execution_count": 13,
   "metadata": {
    "pycharm": {
     "is_executing": false
    }
   },
   "outputs": [],
   "source": [
    "shorter_olr = olr.restrict_time_coverage(raw_olr, np.datetime64('1979-01-01'), np.datetime64('2012-12-31'))"
   ]
  },
  {
   "cell_type": "markdown",
   "metadata": {},
   "source": [
    "Make sure that the spatial sampling resembles the original one (This should not be necessary here, since we use the original data file. Nevertheless, we want to be sure.)."
   ]
  },
  {
   "cell_type": "code",
   "execution_count": 14,
   "metadata": {
    "pycharm": {
     "is_executing": false
    }
   },
   "outputs": [],
   "source": [
    "interpolated_olr = olr.interpolate_spatial_grid_to_original(shorter_olr)"
   ]
  },
  {
   "cell_type": "markdown",
   "metadata": {},
   "source": [
    "**Diagnosis plot** of the loaded OLR data."
   ]
  },
  {
   "cell_type": "code",
   "execution_count": null,
   "metadata": {
    "pycharm": {
     "is_executing": false
    }
   },
   "outputs": [],
   "source": [
    "fig = olr.plot_olr_map_for_date(interpolated_olr, np.datetime64(\"2010-01-01\"))\n",
    "fig.show()\n",
    "fig.savefig(fig_dir / \"OLR_map.png\")"
   ]
  },
  {
   "cell_type": "markdown",
   "metadata": {},
   "source": [
    "If you would like to remove leap years from your dataset, use the following function. The original OMI calculution includes leap years. "
   ]
  },
  {
   "cell_type": "code",
   "execution_count": 17,
   "metadata": {},
   "outputs": [],
   "source": [
    "# remove leap years\n",
    "no_leap = True\n",
    "no_leap_olr = olr.remove_leap_years(interpolated_olr)"
   ]
  },
  {
   "cell_type": "markdown",
   "metadata": {},
   "source": [
    "## Calculation of the EOFs\n",
    "\n",
    "Some details regarding the **calculation options**:\n",
    "\n",
    "During the postprocessing, which is part of the recalculation, two optional steps can be execuated (see Kiladis, 2014, for details):\n",
    "* The signs of the EOFs are adjusted (**sign_doy1reference**=True)\n",
    "* The EOFs in a period around DOY 300 are replaced by an interpolation (**interpolate_eofs**=True)\n",
    "\n",
    "The switch **strict_leap_year_treatment** has major implications only for the EOFs calculated for DOY 366 and causes only minor differences for the other DOYs. While the results for setting strict_leap_year_treatment=False are closer to the original values, the calculation strict_leap_year_treatment=True is somewhat more stringently implemented using built-in datetime functionality. See documentation of mjoindices.tools.find_doy_ranges_in_dates() for details.\n",
    "\n",
    "<span style=\"color:red\">This part takes most of the computation time.</span> Skip the following cell, if you have already computed and saved the EOFs before. If you would like to use a dataset with the leap years removed, replace interpolated_olr with no_leap_olr. "
   ]
  },
  {
   "cell_type": "code",
   "execution_count": 18,
   "metadata": {
    "pycharm": {
     "is_executing": true
    }
   },
   "outputs": [
    {
     "name": "stdout",
     "output_type": "stream",
     "text": [
      "Smooth data temporally and longitudinally...\n",
      "Filtering for latitude:  -20.0\n",
      "Filtering for latitude:  -17.5\n",
      "Filtering for latitude:  -15.0\n",
      "Filtering for latitude:  -12.5\n",
      "Filtering for latitude:  -10.0\n",
      "Filtering for latitude:  -7.5\n",
      "Filtering for latitude:  -5.0\n",
      "Filtering for latitude:  -2.5\n",
      "Filtering for latitude:  0.0\n",
      "Filtering for latitude:  2.5\n",
      "Filtering for latitude:  5.0\n",
      "Filtering for latitude:  7.5\n",
      "Filtering for latitude:  10.0\n",
      "Filtering for latitude:  12.5\n",
      "Filtering for latitude:  15.0\n",
      "Filtering for latitude:  17.5\n",
      "Filtering for latitude:  20.0\n",
      "Calculating EOFs for DOY 1\n",
      "Calculating EOFs for DOY 2\n",
      "Calculating EOFs for DOY 3\n",
      "Calculating EOFs for DOY 4\n",
      "Calculating EOFs for DOY 5\n",
      "Calculating EOFs for DOY 6\n",
      "Calculating EOFs for DOY 7\n",
      "Calculating EOFs for DOY 8\n",
      "Calculating EOFs for DOY 9\n"
     ]
    },
    {
     "ename": "KeyboardInterrupt",
     "evalue": "",
     "output_type": "error",
     "traceback": [
      "\u001b[0;31m---------------------------------------------------------------------------\u001b[0m",
      "\u001b[0;31mKeyboardInterrupt\u001b[0m                         Traceback (most recent call last)",
      "Input \u001b[0;32mIn [18]\u001b[0m, in \u001b[0;36m<cell line: 1>\u001b[0;34m()\u001b[0m\n\u001b[0;32m----> 1\u001b[0m eofs \u001b[38;5;241m=\u001b[39m \u001b[43momi\u001b[49m\u001b[38;5;241;43m.\u001b[39;49m\u001b[43mcalc_eofs_from_olr\u001b[49m\u001b[43m(\u001b[49m\u001b[43mno_leap_olr\u001b[49m\u001b[43m,\u001b[49m\n\u001b[1;32m      2\u001b[0m \u001b[43m                             \u001b[49m\u001b[43msign_doy1reference\u001b[49m\u001b[38;5;241;43m=\u001b[39;49m\u001b[38;5;28;43;01mTrue\u001b[39;49;00m\u001b[43m,\u001b[49m\n\u001b[1;32m      3\u001b[0m \u001b[43m                             \u001b[49m\u001b[43minterpolate_eofs\u001b[49m\u001b[38;5;241;43m=\u001b[39;49m\u001b[38;5;28;43;01mTrue\u001b[39;49;00m\u001b[43m,\u001b[49m\n\u001b[1;32m      4\u001b[0m \u001b[43m                             \u001b[49m\u001b[43mstrict_leap_year_treatment\u001b[49m\u001b[38;5;241;43m=\u001b[39;49m\u001b[38;5;28;43;01mFalse\u001b[39;49;00m\u001b[43m,\u001b[49m\u001b[43m \u001b[49m\n\u001b[1;32m      5\u001b[0m \u001b[43m                             \u001b[49m\u001b[43mno_leap\u001b[49m\u001b[38;5;241;43m=\u001b[39;49m\u001b[38;5;28;43;01mTrue\u001b[39;49;00m\u001b[43m)\u001b[49m\n\u001b[1;32m      6\u001b[0m eofs\u001b[38;5;241m.\u001b[39msave_all_eofs_to_npzfile(eofnpzfile)\n",
      "File \u001b[0;32m~/Desktop/MJO_indices/mjoindices_fork/mjoindices/src/mjoindices/omi/omi_calculator.py:90\u001b[0m, in \u001b[0;36mcalc_eofs_from_olr\u001b[0;34m(olrdata, implementation, sign_doy1reference, interpolate_eofs, interpolation_start_doy, interpolation_end_doy, strict_leap_year_treatment, no_leap)\u001b[0m\n\u001b[1;32m     71\u001b[0m \u001b[38;5;124;03m\"\"\"\u001b[39;00m\n\u001b[1;32m     72\u001b[0m \u001b[38;5;124;03mOne major function of this module. It performs the complete OMI EOF computation.\u001b[39;00m\n\u001b[1;32m     73\u001b[0m \n\u001b[0;32m   (...)\u001b[0m\n\u001b[1;32m     87\u001b[0m \u001b[38;5;124;03m:return:\u001b[39;00m\n\u001b[1;32m     88\u001b[0m \u001b[38;5;124;03m\"\"\"\u001b[39;00m\n\u001b[1;32m     89\u001b[0m preprocessed_olr \u001b[38;5;241m=\u001b[39m preprocess_olr(olrdata)\n\u001b[0;32m---> 90\u001b[0m raw_eofs \u001b[38;5;241m=\u001b[39m \u001b[43mcalc_eofs_from_preprocessed_olr\u001b[49m\u001b[43m(\u001b[49m\u001b[43mpreprocessed_olr\u001b[49m\u001b[43m,\u001b[49m\u001b[43m \u001b[49m\u001b[43mimplementation\u001b[49m\u001b[38;5;241;43m=\u001b[39;49m\u001b[43mimplementation\u001b[49m\u001b[43m,\u001b[49m\u001b[43m \u001b[49m\u001b[43mstrict_leap_year_treatment\u001b[49m\u001b[38;5;241;43m=\u001b[39;49m\u001b[43mstrict_leap_year_treatment\u001b[49m\u001b[43m,\u001b[49m\u001b[43m \u001b[49m\u001b[43mno_leap\u001b[49m\u001b[38;5;241;43m=\u001b[39;49m\u001b[43mno_leap\u001b[49m\u001b[43m)\u001b[49m\n\u001b[1;32m     91\u001b[0m result \u001b[38;5;241m=\u001b[39m post_process_eofs(raw_eofs, sign_doy1reference\u001b[38;5;241m=\u001b[39msign_doy1reference, interpolate_eofs\u001b[38;5;241m=\u001b[39minterpolate_eofs,\n\u001b[1;32m     92\u001b[0m                            interpolation_start_doy\u001b[38;5;241m=\u001b[39minterpolation_start_doy,\n\u001b[1;32m     93\u001b[0m                            interpolation_end_doy\u001b[38;5;241m=\u001b[39minterpolation_end_doy, no_leap\u001b[38;5;241m=\u001b[39mno_leap)\n\u001b[1;32m     94\u001b[0m \u001b[38;5;28;01mreturn\u001b[39;00m result\n",
      "File \u001b[0;32m~/Desktop/MJO_indices/mjoindices_fork/mjoindices/src/mjoindices/omi/omi_calculator.py:144\u001b[0m, in \u001b[0;36mcalc_eofs_from_preprocessed_olr\u001b[0;34m(olrdata, implementation, strict_leap_year_treatment, no_leap)\u001b[0m\n\u001b[1;32m    140\u001b[0m         singleeof \u001b[38;5;241m=\u001b[39m calc_eofs_for_doy_using_eofs_package(olrdata, doy,\n\u001b[1;32m    141\u001b[0m                                                          strict_leap_year_treatment\u001b[38;5;241m=\u001b[39mstrict_leap_year_treatment,\n\u001b[1;32m    142\u001b[0m                                                          no_leap\u001b[38;5;241m=\u001b[39mno_leap)\n\u001b[1;32m    143\u001b[0m     \u001b[38;5;28;01melse\u001b[39;00m:\n\u001b[0;32m--> 144\u001b[0m         singleeof \u001b[38;5;241m=\u001b[39m \u001b[43mcalc_eofs_for_doy\u001b[49m\u001b[43m(\u001b[49m\u001b[43molrdata\u001b[49m\u001b[43m,\u001b[49m\u001b[43m \u001b[49m\u001b[43mdoy\u001b[49m\u001b[43m,\u001b[49m\u001b[43m \u001b[49m\u001b[43mstrict_leap_year_treatment\u001b[49m\u001b[38;5;241;43m=\u001b[39;49m\u001b[43mstrict_leap_year_treatment\u001b[49m\u001b[43m,\u001b[49m\u001b[43m \u001b[49m\n\u001b[1;32m    145\u001b[0m \u001b[43m                                        \u001b[49m\u001b[43mno_leap\u001b[49m\u001b[38;5;241;43m=\u001b[39;49m\u001b[43mno_leap\u001b[49m\u001b[43m)\u001b[49m\n\u001b[1;32m    146\u001b[0m     eofs\u001b[38;5;241m.\u001b[39mappend(singleeof)\n\u001b[1;32m    147\u001b[0m \u001b[38;5;28;01mreturn\u001b[39;00m eof\u001b[38;5;241m.\u001b[39mEOFDataForAllDOYs(eofs, no_leap)\n",
      "File \u001b[0;32m~/Desktop/MJO_indices/mjoindices_fork/mjoindices/src/mjoindices/omi/omi_calculator.py:210\u001b[0m, in \u001b[0;36mcalc_eofs_for_doy\u001b[0;34m(olrdata, doy, strict_leap_year_treatment, no_leap)\u001b[0m\n\u001b[1;32m    208\u001b[0m \u001b[38;5;28;01mif\u001b[39;00m \u001b[38;5;129;01mnot\u001b[39;00m np\u001b[38;5;241m.\u001b[39mallclose(R, R\u001b[38;5;241m.\u001b[39mT):\n\u001b[1;32m    209\u001b[0m     warnings\u001b[38;5;241m.\u001b[39mwarn(\u001b[38;5;124m\"\u001b[39m\u001b[38;5;124mCovariance matrix is not symmetric within defined tolerance\u001b[39m\u001b[38;5;124m\"\u001b[39m)\n\u001b[0;32m--> 210\u001b[0m L, E \u001b[38;5;241m=\u001b[39m \u001b[43mnp\u001b[49m\u001b[38;5;241;43m.\u001b[39;49m\u001b[43mlinalg\u001b[49m\u001b[38;5;241;43m.\u001b[39;49m\u001b[43meig\u001b[49m\u001b[43m(\u001b[49m\u001b[43mR\u001b[49m\u001b[43m)\u001b[49m\n\u001b[1;32m    212\u001b[0m \u001b[38;5;28;01mif\u001b[39;00m \u001b[38;5;129;01mnot\u001b[39;00m np\u001b[38;5;241m.\u001b[39mallclose(np\u001b[38;5;241m.\u001b[39mimag(L), \u001b[38;5;241m0.\u001b[39m):\n\u001b[1;32m    213\u001b[0m     warnings\u001b[38;5;241m.\u001b[39mwarn(\u001b[38;5;124m\"\u001b[39m\u001b[38;5;124mImaginary part of at least one Eigenvalue greater than expected. Neglecting it anyway\u001b[39m\u001b[38;5;124m\"\u001b[39m)\n",
      "File \u001b[0;32m<__array_function__ internals>:180\u001b[0m, in \u001b[0;36meig\u001b[0;34m(*args, **kwargs)\u001b[0m\n",
      "File \u001b[0;32m~/mjo_env/lib/python3.9/site-packages/numpy/linalg/linalg.py:1311\u001b[0m, in \u001b[0;36meig\u001b[0;34m(a)\u001b[0m\n\u001b[1;32m   1308\u001b[0m extobj \u001b[38;5;241m=\u001b[39m get_linalg_error_extobj(\n\u001b[1;32m   1309\u001b[0m     _raise_linalgerror_eigenvalues_nonconvergence)\n\u001b[1;32m   1310\u001b[0m signature \u001b[38;5;241m=\u001b[39m \u001b[38;5;124m'\u001b[39m\u001b[38;5;124mD->DD\u001b[39m\u001b[38;5;124m'\u001b[39m \u001b[38;5;28;01mif\u001b[39;00m isComplexType(t) \u001b[38;5;28;01melse\u001b[39;00m \u001b[38;5;124m'\u001b[39m\u001b[38;5;124md->DD\u001b[39m\u001b[38;5;124m'\u001b[39m\n\u001b[0;32m-> 1311\u001b[0m w, vt \u001b[38;5;241m=\u001b[39m \u001b[43m_umath_linalg\u001b[49m\u001b[38;5;241;43m.\u001b[39;49m\u001b[43meig\u001b[49m\u001b[43m(\u001b[49m\u001b[43ma\u001b[49m\u001b[43m,\u001b[49m\u001b[43m \u001b[49m\u001b[43msignature\u001b[49m\u001b[38;5;241;43m=\u001b[39;49m\u001b[43msignature\u001b[49m\u001b[43m,\u001b[49m\u001b[43m \u001b[49m\u001b[43mextobj\u001b[49m\u001b[38;5;241;43m=\u001b[39;49m\u001b[43mextobj\u001b[49m\u001b[43m)\u001b[49m\n\u001b[1;32m   1313\u001b[0m \u001b[38;5;28;01mif\u001b[39;00m \u001b[38;5;129;01mnot\u001b[39;00m isComplexType(t) \u001b[38;5;129;01mand\u001b[39;00m \u001b[38;5;28mall\u001b[39m(w\u001b[38;5;241m.\u001b[39mimag \u001b[38;5;241m==\u001b[39m \u001b[38;5;241m0.0\u001b[39m):\n\u001b[1;32m   1314\u001b[0m     w \u001b[38;5;241m=\u001b[39m w\u001b[38;5;241m.\u001b[39mreal\n",
      "\u001b[0;31mKeyboardInterrupt\u001b[0m: "
     ]
    }
   ],
   "source": [
    "eofs = omi.calc_eofs_from_olr(interpolated_olr,\n",
    "                             sign_doy1reference=True,\n",
    "                             interpolate_eofs=True,\n",
    "                             strict_leap_year_treatment=False, \n",
    "                             no_leap=no_leap)\n",
    "eofs.save_all_eofs_to_npzfile(eofnpzfile)"
   ]
  },
  {
   "cell_type": "code",
   "execution_count": null,
   "metadata": {},
   "outputs": [],
   "source": [
    "eofs.save_all_eofs_to_npzfile(eofnpzfile)"
   ]
  },
  {
   "cell_type": "markdown",
   "metadata": {},
   "source": [
    "## Evaluation of the EOFs\n",
    "\n",
    "Load the original EOFs for comparison.\n",
    "\n",
    "Also load the recalculated EOFs from file first, just in case that they have not been recomputed during this session."
   ]
  },
  {
   "cell_type": "code",
   "execution_count": null,
   "metadata": {
    "pycharm": {
     "is_executing": true
    }
   },
   "outputs": [],
   "source": [
    "orig_eofs = eof.load_all_original_eofs_from_directory(originalOMIDataDirname, no_leap=False)\n",
    "eofs = eof.restore_all_eofs_from_npzfile(eofnpzfile)"
   ]
  },
  {
   "cell_type": "markdown",
   "metadata": {},
   "source": [
    "Check the **correlations and further statistics** between the EOFs for each DOY individually:"
   ]
  },
  {
   "cell_type": "code",
   "execution_count": null,
   "metadata": {
    "pycharm": {
     "is_executing": true
    }
   },
   "outputs": [],
   "source": [
    "fig = mjoindices.evaluation_tools.plot_comparison_stats_for_eofs_all_doys (eofs, orig_eofs, exclude_doy366=False, do_print=True)\n",
    "fig.show()\n",
    "fig.savefig(fig_dir / \"EOFs_CorrelationWithOriginal.png\")"
   ]
  },
  {
   "cell_type": "markdown",
   "metadata": {},
   "source": [
    "Show the **explained variances** of the recalculation. Values are about a factor of 2. lower than in Kiladis, 2014, which is correct!"
   ]
  },
  {
   "cell_type": "code",
   "execution_count": null,
   "metadata": {
    "pycharm": {
     "is_executing": true
    }
   },
   "outputs": [],
   "source": [
    "fig = eof.plot_explained_variance_for_all_doys(eofs)\n",
    "fig.show()\n",
    "fig.savefig(fig_dir / \"EOFs_ExplainedVariance.png\")"
   ]
  },
  {
   "cell_type": "markdown",
   "metadata": {},
   "source": [
    "Show a **detailed comparison of individual EOFs** for the particular DOY selected above.\n",
    "\n",
    "*Maps of EOF1 and EOF2:*"
   ]
  },
  {
   "cell_type": "code",
   "execution_count": null,
   "metadata": {
    "pycharm": {
     "is_executing": true
    }
   },
   "outputs": [],
   "source": [
    "fig = eof.plot_individual_eof_map(eofs.eofdata_for_doy(doy), doy)\n",
    "fig.show()\n",
    "fig.savefig(fig_dir / \"EOF_Sample.png\")"
   ]
  },
  {
   "cell_type": "markdown",
   "metadata": {},
   "source": [
    "*Comparison of EOF maps:*"
   ]
  },
  {
   "cell_type": "code",
   "execution_count": null,
   "metadata": {
    "pycharm": {
     "is_executing": true
    }
   },
   "outputs": [],
   "source": [
    "fig = mjoindices.evaluation_tools.plot_individual_eof_map_comparison(orig_eofs.eofdata_for_doy(doy), eofs.eofdata_for_doy(doy), doy)\n",
    "fig.show()\n",
    "fig.savefig(fig_dir / \"EOF_SampleComparison.png\")"
   ]
  },
  {
   "cell_type": "markdown",
   "metadata": {},
   "source": [
    "*Explained variance for a specified number of Eigenvectors (default 10):*\n",
    "\n",
    "The variance for EOF1 and EOF2 should be higher than for the other EOF numbers. The sum over all EOFs should be 1.0."
   ]
  },
  {
   "cell_type": "code",
   "execution_count": null,
   "metadata": {
    "pycharm": {
     "is_executing": true
    }
   },
   "outputs": [],
   "source": [
    "fig = eof.plot_individual_explained_variance_all_eofs(eofs.eofdata_for_doy(doy), doy=doy, max_eof_number=10)\n",
    "fig.show()\n",
    "fig.savefig(fig_dir / \"EOF_SampleExplainedVariance.png\")"
   ]
  },
  {
   "cell_type": "markdown",
   "metadata": {},
   "source": [
    "# Recalculation of the PCs\n",
    "\n",
    "Load the OLR data again, so that this section in independent of the EOF calculation.\n",
    "\n",
    "<span style=\"color:green\">Note that this is the second of two lines that have to be changed if you want to compute OMI for a different OLR dataset: Write a loader function for this dataset and replace the following line with a call of this function.</span>"
   ]
  },
  {
   "cell_type": "code",
   "execution_count": null,
   "metadata": {
    "pycharm": {
     "is_executing": true
    }
   },
   "outputs": [],
   "source": [
    "olr = olr.load_noaa_interpolated_olr(olr_data_filename)\n",
    "# olr = olr.load_noaa_interpolated_olr_netcdf4(olr_data_filename)"
   ]
  },
  {
   "cell_type": "markdown",
   "metadata": {},
   "source": [
    "Load the EOFs, which have been calculated before (also to be independent of the previous cells)."
   ]
  },
  {
   "cell_type": "code",
   "execution_count": null,
   "metadata": {
    "pycharm": {
     "is_executing": true
    }
   },
   "outputs": [],
   "source": [
    "eofs = eof.restore_all_eofs_from_npzfile(eofnpzfile)"
   ]
  },
  {
   "cell_type": "markdown",
   "metadata": {},
   "source": [
    "Calculate the PCs. Restrict calculation to the length of the original OMI time series.\n",
    "\n",
    "<span style=\"color:red\">This part may take several minutes on a common desktop computer.</span> Skip the following cell, if you have already computed and saved the PCs before."
   ]
  },
  {
   "cell_type": "code",
   "execution_count": null,
   "metadata": {
    "pycharm": {
     "is_executing": true
    }
   },
   "outputs": [],
   "source": [
    "pcs = omi.calculate_pcs_from_olr(olr,\n",
    "                                 eofs,\n",
    "                                 np.datetime64(\"1979-01-01\"),\n",
    "                                 np.datetime64(\"2018-08-28\"),\n",
    "                                 use_quick_temporal_filter=False)\n",
    "pcs.save_pcs_to_txt_file(pctxtfile)"
   ]
  },
  {
   "cell_type": "markdown",
   "metadata": {},
   "source": [
    "## Evaluation of the PCs\n",
    "\n",
    "Load the original PCs for comparison.\n",
    "\n",
    "Also load the recalculated PCs from file first, just in case that they have not been recomputed during this session."
   ]
  },
  {
   "cell_type": "code",
   "execution_count": null,
   "metadata": {
    "pycharm": {
     "is_executing": true
    }
   },
   "outputs": [],
   "source": [
    "pcs = pc.load_pcs_from_txt_file(pctxtfile)\n",
    "orig_pcs = pc.load_original_pcs_from_txt_file(originalOMIPCFile)"
   ]
  },
  {
   "cell_type": "markdown",
   "metadata": {},
   "source": [
    "Plot sample period of the *PC time series*."
   ]
  },
  {
   "cell_type": "code",
   "execution_count": null,
   "metadata": {
    "pycharm": {
     "is_executing": true
    }
   },
   "outputs": [],
   "source": [
    "fig = mjoindices.evaluation_tools.plot_comparison_orig_calc_pcs(pcs, orig_pcs, start_date=pc_plot_period_start, end_date=pc_plot_period_stop)\n",
    "fig.savefig(fig_dir / \"PCs_TimeSeries.png\")\n"
   ]
  }
 ],
 "metadata": {
  "kernelspec": {
   "display_name": "mjo_env",
   "language": "python",
   "name": "mjo_env"
  },
  "language_info": {
   "codemirror_mode": {
    "name": "ipython",
    "version": 3
   },
   "file_extension": ".py",
   "mimetype": "text/x-python",
   "name": "python",
   "nbconvert_exporter": "python",
   "pygments_lexer": "ipython3",
   "version": "3.9.12"
  },
  "pycharm": {
   "stem_cell": {
    "cell_type": "raw",
    "metadata": {
     "collapsed": false
    },
    "source": []
   }
  }
 },
 "nbformat": 4,
 "nbformat_minor": 4
}
