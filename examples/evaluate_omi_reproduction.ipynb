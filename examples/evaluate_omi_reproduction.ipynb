{
 "cells": [
  {
   "cell_type": "markdown",
   "metadata": {},
   "source": [
    "# License\n",
    "Copyright (C) 2019 Christoph G. Hoffmann. All rights reserved.\n",
    "\n",
    "This file is part of mjoindices\n",
    "\n",
    "This program is free software: you can redistribute it and/or modify it under the terms of the GNU General Public License as published by the Free Software Foundation, either version 3 of the License, or (at your option) any later version.\n",
    "\n",
    "This program is distributed in the hope that it will be useful, but WITHOUT ANY WARRANTY; without even the implied warranty of MERCHANTABILITY or FITNESS FOR A PARTICULAR PURPOSE.  See the GNU General Public License for more details.\n",
    "\n",
    "You should have received a copy of the GNU General Public License along with this program.  If not, see <https://www.gnu.org/licenses/>.\n",
    "\n",
    "Contact: christoph.hoffmann@uni-greifswald.de"
   ]
  },
  {
   "cell_type": "markdown",
   "metadata": {},
   "source": [
    "# Before you start\n",
    "This file evaluates the quality of the OMI reproduction, but does not start the recalculation itself.\n",
    "\n",
    "To generate the reproduction data first, you have to:\n",
    "* Execute the notebook examples/recalculate_original_omi.ipynb. \n",
    "* Change path- and filesname in this file below according to the settings in examples/recalculate_original_omi.ipynb."
   ]
  },
  {
   "cell_type": "markdown",
   "metadata": {},
   "source": [
    "# Preparation of the evaluation\n",
    "## Imports"
   ]
  },
  {
   "cell_type": "code",
   "execution_count": null,
   "metadata": {
    "pycharm": {
     "is_executing": true
    }
   },
   "outputs": [],
   "source": [
    "from pathlib import Path\n",
    "import numpy as np\n",
    "import os.path\n",
    "import inspect\n",
    "import matplotlib.pyplot as plt\n",
    "\n",
    "import mjoindices.empirical_orthogonal_functions as eof\n",
    "import mjoindices.evaluation_tools\n",
    "import mjoindices.principal_components as pc\n",
    "import mjoindices.tools as tools"
   ]
  },
  {
   "cell_type": "markdown",
   "metadata": {},
   "source": [
    "## Settings.\n",
    "Adjust the settings and filenames according to your system here.\n",
    "\n"
   ]
  },
  {
   "cell_type": "markdown",
   "metadata": {},
   "source": [
    "### Inclusion of DOY 366\n",
    "\n",
    "The treatment of leap years does not exactly fit the original implementation (and two options are actually available for the recalculation). Here you can choose to exclude DOY 366 from the evaluation, since the evaluation of a different implementation might be meaningless."
   ]
  },
  {
   "cell_type": "code",
   "execution_count": null,
   "metadata": {},
   "outputs": [],
   "source": [
    "setting_exclude_doy_366 = True"
   ]
  },
  {
   "cell_type": "markdown",
   "metadata": {},
   "source": [
    "### DOY for details\n",
    "Select the DOY, for which you would like to see a detailed comparison of the EOFs (number between 1 and 366).\n",
    "E.g., DOY 23 is among the best agreements and DOY 218 has the worst agreement."
   ]
  },
  {
   "cell_type": "code",
   "execution_count": null,
   "metadata": {},
   "outputs": [],
   "source": [
    "doy=23"
   ]
  },
  {
   "cell_type": "markdown",
   "metadata": {},
   "source": [
    "### Period, for which the PC time series are plotted.\n",
    "Select the start and end date."
   ]
  },
  {
   "cell_type": "code",
   "execution_count": null,
   "metadata": {},
   "outputs": [],
   "source": [
    "pc_plot_period_start=np.datetime64(\"2011-01-01\")\n",
    "pc_plot_period_stop=np.datetime64(\"2011-12-31\")"
   ]
  },
  {
   "cell_type": "markdown",
   "metadata": {},
   "source": [
    "\n",
    "### External input files"
   ]
  },
  {
   "cell_type": "markdown",
   "metadata": {},
   "source": [
    "**Original EOF functions**: The following directory should contain the two subdirectories \"eof1\" and \"eof2\", which should contain the files downloaded from ftp://ftp.cdc.noaa.gov/Datasets.other/MJO/eof1/ and ftp://ftp.cdc.noaa.gov/Datasets.other/MJO/eof2/, respectively.\n",
    "\n",
    "Note: If you have set up the test suite using the reference data package (https://doi.org/10.5281/zenodo.3746562) and if you have kept the original directory structure, the following default setting should directly work."
   ]
  },
  {
   "cell_type": "code",
   "execution_count": null,
   "metadata": {},
   "outputs": [],
   "source": [
    "originalOMIDataDirname = Path(os.path.abspath('')).parents[0] / \"tests\" / \"testdata\" / \"OriginalOMI\""
   ]
  },
  {
   "cell_type": "markdown",
   "metadata": {},
   "source": [
    "**Original OMI PC values**: Download the original OMI values from https://www.esrl.noaa.gov/psd/mjo/mjoindex/omi.1x.txt to your local file system and adjust the local path below.\n",
    "\n",
    "Note: If you have set up the test suite using the reference data package (https://doi.org/10.5281/zenodo.3746562) and if you have kept the original directory structure, the following default setting should directly work."
   ]
  },
  {
   "cell_type": "code",
   "execution_count": null,
   "metadata": {},
   "outputs": [],
   "source": [
    "originalOMIPCFile = Path(os.path.abspath('')).parents[0] / \"tests\" / \"testdata\" / \"OriginalOMI\" / \"omi.1x.txt\""
   ]
  },
  {
   "cell_type": "markdown",
   "metadata": {},
   "source": [
    "**Original exlained variance values**: The following file is included in the reference data package (https://doi.org/10.5281/zenodo.3746562).\n",
    "\n",
    "Note: If you have set up the test suite using the reference data package (https://doi.org/10.5281/zenodo.3746562) and if you have kept the original directory structure, the following default setting should directly work."
   ]
  },
  {
   "cell_type": "code",
   "execution_count": null,
   "metadata": {},
   "outputs": [],
   "source": [
    "original_omi_explained_variance_file = Path(os.path.abspath('')).parents[0] / \"tests\" / \"testdata\" / \"OriginalOMI\" / \"omi_var.txt\""
   ]
  },
  {
   "cell_type": "markdown",
   "metadata": {},
   "source": [
    "### Recalculation input files\n",
    "The following two files files will be generated by the example recalculate_original_omi.ipynb, which is included in this package (runs for up to two hours on common PCs). Adjust according to the settings in recalculate_original_omi.ipynb.\n",
    "\n",
    "**The recalculated EOF values**:"
   ]
  },
  {
   "cell_type": "code",
   "execution_count": null,
   "metadata": {},
   "outputs": [],
   "source": [
    "eofnpzfile = Path(os.path.abspath('')).parents[0] / \"examples\" / \"example_data\" / \"EOFs.npz\""
   ]
  },
  {
   "cell_type": "markdown",
   "metadata": {},
   "source": [
    "**The recalculated PC values**:"
   ]
  },
  {
   "cell_type": "code",
   "execution_count": null,
   "metadata": {},
   "outputs": [],
   "source": [
    "pctxtfile = Path(os.path.abspath('')).parents[0] / \"examples\" / \"example_data\" / \"PCs.txt\""
   ]
  },
  {
   "cell_type": "markdown",
   "metadata": {},
   "source": [
    "### Output directory\n",
    "\n",
    "**The directory, in which the figures are saved**:"
   ]
  },
  {
   "cell_type": "code",
   "execution_count": null,
   "metadata": {},
   "outputs": [],
   "source": [
    "fig_dir = Path(os.path.dirname(os.path.abspath(inspect.getfile(inspect.currentframe())))) / \"example_data\" / \"omi_reproduction_evaluation_plots\"\n",
    "\n",
    "if not fig_dir.exists():\n",
    "    fig_dir.mkdir(parents=True, exist_ok=False)"
   ]
  },
  {
   "cell_type": "markdown",
   "metadata": {},
   "source": [
    "## Evaluation\n",
    "\n",
    "There should be no need to change anything below.\n",
    "\n",
    "### Evaluation of the EOFs\n",
    "\n",
    "Load EOF data (recalculation and reference):"
   ]
  },
  {
   "cell_type": "code",
   "execution_count": null,
   "metadata": {},
   "outputs": [],
   "source": [
    "eofs = eof.restore_all_eofs_from_npzfile(eofnpzfile)\n",
    "orig_eofs = eof.load_all_original_eofs_from_directory(originalOMIDataDirname)"
   ]
  },
  {
   "cell_type": "markdown",
   "metadata": {},
   "source": [
    "Check the **correlations** between the EOFs for each DOY individually:"
   ]
  },
  {
   "cell_type": "code",
   "execution_count": null,
   "metadata": {},
   "outputs": [],
   "source": [
    "fig = mjoindices.evaluation_tools.plot_correlation_for_eofs_all_doys(eofs, orig_eofs, exclude_doy366=setting_exclude_doy_366, do_print=True)\n",
    "fig.show()\n",
    "fig.savefig(fig_dir / \"EOFCorrelations.png\")\n",
    "fig.savefig(fig_dir / \"EOFCorrelations.pdf\")"
   ]
  },
  {
   "cell_type": "markdown",
   "metadata": {},
   "source": [
    "Show more **detailed statistics** describing the agreement of the EOFs for each DOY."
   ]
  },
  {
   "cell_type": "code",
   "execution_count": null,
   "metadata": {},
   "outputs": [],
   "source": [
    "fig = mjoindices.evaluation_tools.plot_comparison_stats_for_eofs_all_doys(eofs, orig_eofs, exclude_doy366=setting_exclude_doy_366, do_print=True)\n",
    "fig.show()\n",
    "fig.savefig(fig_dir / \"EOFComparisonStatistics.png\")\n",
    "fig.savefig(fig_dir / \"EOFComparisonStatistics.pdf\")"
   ]
  },
  {
   "cell_type": "markdown",
   "metadata": {},
   "source": [
    "Show the **explained variances** of the recalculation (These are by a factor of 2 lower than in the original publication (Kiladis, 2014), which is correct!"
   ]
  },
  {
   "cell_type": "code",
   "execution_count": null,
   "metadata": {},
   "outputs": [],
   "source": [
    "fig = eof.plot_explained_variance_for_all_doys(eofs, include_no_observations=False)\n",
    "fig.show()\n",
    "fig.savefig(fig_dir / \"ExplainedVarianceForAllDoys.png\")\n",
    "fig.savefig(fig_dir / \"ExplainedVarianceForAllDoys.pdf\")"
   ]
  },
  {
   "cell_type": "markdown",
   "metadata": {},
   "source": [
    "Compare the **explained variances for EOF1** to the original ones for each DOY."
   ]
  },
  {
   "cell_type": "code",
   "execution_count": null,
   "metadata": {},
   "outputs": [],
   "source": [
    "orig_explained_variance_1, orig_explained_variance_2 = mjoindices.evaluation_tools.load_omi_explained_variance(original_omi_explained_variance_file)\n",
    "fig = mjoindices.evaluation_tools.plot_comparison_stats_for_explained_variance(orig_explained_variance_1, eofs.explained_variance1_for_all_doys(), title=\"Explained Variance for EOF1\", do_print=True, exclude_doy366=setting_exclude_doy_366)\n",
    "fig.show()\n",
    "fig.savefig(fig_dir / \"ExplainedVarianceComparison_EOF1.png\")\n",
    "fig.savefig(fig_dir / \"ExplainedVarianceComparison_EOF1.pdf\")"
   ]
  },
  {
   "cell_type": "markdown",
   "metadata": {},
   "source": [
    "Compare the **explained variances for EOF2** to the original ones for each DOY."
   ]
  },
  {
   "cell_type": "code",
   "execution_count": null,
   "metadata": {},
   "outputs": [],
   "source": [
    "orig_explained_variance_1, orig_explained_variance_2 = mjoindices.evaluation_tools.load_omi_explained_variance(original_omi_explained_variance_file)\n",
    "fig = mjoindices.evaluation_tools.plot_comparison_stats_for_explained_variance(orig_explained_variance_2, eofs.explained_variance2_for_all_doys(), title=\"Explained Variance for EOF2\", do_print=True, exclude_doy366=setting_exclude_doy_366)\n",
    "fig.show()\n",
    "fig.savefig(fig_dir / \"ExplainedVarianceComparison_EOF2.png\")\n",
    "fig.savefig(fig_dir / \"ExplainedVarianceComparison_EOF2.pdf\")"
   ]
  },
  {
   "cell_type": "markdown",
   "metadata": {},
   "source": [
    "Show a **detailed comparison of individual EOFs** for the particular DOY selected above.\n",
    "\n",
    "*EOF Maps:*"
   ]
  },
  {
   "cell_type": "code",
   "execution_count": null,
   "metadata": {},
   "outputs": [],
   "source": [
    "fig = mjoindices.evaluation_tools.plot_individual_eof_map_comparison(orig_eofs.eofdata_for_doy(doy), eofs.eofdata_for_doy(doy), doy=doy)\n",
    "fig.show()\n",
    "fig.savefig(fig_dir / (\"EOFComparisonMapDOY%i.png\"%doy))\n",
    "fig.savefig(fig_dir / (\"EOFComparisonMapDOY%i.pdf\"%doy))"
   ]
  },
  {
   "cell_type": "markdown",
   "metadata": {},
   "source": [
    "*EOF1*:"
   ]
  },
  {
   "cell_type": "code",
   "execution_count": null,
   "metadata": {},
   "outputs": [],
   "source": [
    "fig = mjoindices.evaluation_tools.plot_vector_agreement(orig_eofs.eof1vector_for_doy(doy), eofs.eof1vector_for_doy(doy), title=\"EOF1 for DOY %i\" % doy, do_print=True)\n",
    "fig.show()\n",
    "fig.savefig(fig_dir / (\"EOF1DetailedComparisonDOY%i.png\"%doy))\n",
    "fig.savefig(fig_dir / (\"EOF1DetailedComparisonDOY%i.pdf\"%doy))"
   ]
  },
  {
   "cell_type": "markdown",
   "metadata": {},
   "source": [
    "*EOF2*:"
   ]
  },
  {
   "cell_type": "code",
   "execution_count": null,
   "metadata": {},
   "outputs": [],
   "source": [
    "fig = mjoindices.evaluation_tools.plot_vector_agreement(orig_eofs.eof2vector_for_doy(doy), eofs.eof2vector_for_doy(doy), title=\"EOF2 for DOY %i\" % doy, do_print=True)\n",
    "fig.show()\n",
    "fig.savefig(fig_dir / (\"EOF2DetailedComparisonDOY%i.png\"%doy))\n",
    "fig.savefig(fig_dir / (\"EOF2DetailedComparisonDOY%i.pdf\"%doy))"
   ]
  },
  {
   "cell_type": "markdown",
   "metadata": {},
   "source": [
    "### Evaluation of the PCs\n",
    "\n",
    "Load PC data (recalculation and reference):"
   ]
  },
  {
   "cell_type": "code",
   "execution_count": null,
   "metadata": {},
   "outputs": [],
   "source": [
    "pcs = pc.load_pcs_from_txt_file(pctxtfile)\n",
    "orig_pcs = pc.load_original_pcs_from_txt_file(originalOMIPCFile)"
   ]
  },
  {
   "cell_type": "markdown",
   "metadata": {},
   "source": [
    "Plot **sample period** of the PC time series."
   ]
  },
  {
   "cell_type": "code",
   "execution_count": null,
   "metadata": {},
   "outputs": [],
   "source": [
    "fig = mjoindices.evaluation_tools.plot_comparison_orig_calc_pcs(pcs, orig_pcs, start_date=pc_plot_period_start, end_date=pc_plot_period_stop)\n",
    "fig.show()\n",
    "fig.savefig(fig_dir / \"PCTimeSeriesSample.png\")\n",
    "fig.savefig(fig_dir / \"PCTimeSeriesSample.pdf\")"
   ]
  },
  {
   "cell_type": "markdown",
   "metadata": {},
   "source": [
    "Plot a detailed evaluation of the **PC1 agreement**."
   ]
  },
  {
   "cell_type": "code",
   "execution_count": null,
   "metadata": {},
   "outputs": [],
   "source": [
    "fig = mjoindices.evaluation_tools.plot_timeseries_agreement(orig_pcs.pc1, orig_pcs.time, pcs.pc1, pcs.time, title=\"PC1\", do_print=True)\n",
    "fig.show()\n",
    "fig.savefig(fig_dir / \"PC1_Comparison.png\")\n",
    "fig.savefig(fig_dir / \"PC1_Comparison.pdf\")"
   ]
  },
  {
   "cell_type": "markdown",
   "metadata": {},
   "source": [
    "Plot a detailed evaluation of the **PC2 agreement**."
   ]
  },
  {
   "cell_type": "code",
   "execution_count": null,
   "metadata": {},
   "outputs": [],
   "source": [
    "fig = mjoindices.evaluation_tools.plot_timeseries_agreement(orig_pcs.pc2, orig_pcs.time, pcs.pc2, pcs.time, title=\"PC2\", do_print=True)\n",
    "fig.show()\n",
    "fig.savefig(fig_dir / \"PC2_Comparison.png\")\n",
    "fig.savefig(fig_dir / \"PC2_Comparison.pdf\")"
   ]
  },
  {
   "cell_type": "markdown",
   "metadata": {},
   "source": [
    "Calculate and plot a detailed evaluation of the **resulting MJO strength**."
   ]
  },
  {
   "cell_type": "code",
   "execution_count": null,
   "metadata": {
    "pycharm": {
     "is_executing": false
    }
   },
   "outputs": [],
   "source": [
    "strength = np.sqrt(np.square(pcs.pc1) + np.square(pcs.pc2))\n",
    "orig_strength = np.sqrt(np.square(orig_pcs.pc1) + np.square(orig_pcs.pc2))\n",
    "fig = mjoindices.evaluation_tools.plot_timeseries_agreement(orig_strength, orig_pcs.time, strength, pcs.time, title=\"MJO Strength\", do_print=True)\n",
    "fig.show()\n",
    "fig.savefig(fig_dir / \"MJOStrength_Comparison.png\")\n",
    "fig.savefig(fig_dir / \"MJOStrength_Comparison.pdf\")\n",
    "\n",
    "\n",
    "\n",
    "\n"
   ]
  },
  {
   "cell_type": "code",
   "execution_count": null,
   "metadata": {},
   "outputs": [],
   "source": []
  }
 ],
 "metadata": {
  "kernelspec": {
   "display_name": "Python 3 (ipykernel)",
   "language": "python",
   "name": "python3"
  },
  "language_info": {
   "codemirror_mode": {
    "name": "ipython",
    "version": 3
   },
   "file_extension": ".py",
   "mimetype": "text/x-python",
   "name": "python",
   "nbconvert_exporter": "python",
   "pygments_lexer": "ipython3",
   "version": "3.10.6"
  },
  "pycharm": {
   "stem_cell": {
    "cell_type": "raw",
    "metadata": {
     "collapsed": false
    },
    "source": []
   }
  },
  "toc-autonumbering": false,
  "toc-showcode": false,
  "toc-showmarkdowntxt": false,
  "toc-showtags": false
 },
 "nbformat": 4,
 "nbformat_minor": 4
}
